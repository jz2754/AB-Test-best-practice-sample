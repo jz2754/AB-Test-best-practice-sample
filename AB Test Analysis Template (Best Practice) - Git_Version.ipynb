{
 "cells": [
  {
   "cell_type": "markdown",
   "id": "daba1126",
   "metadata": {},
   "source": [
    "#  1. Experiment overview\n",
    "\n",
    "At the time of this experiment, Udacity courses currently have two options on the course overview page: \"start free trial\", and \"access course materials\". If the student clicks \"start free trial\", they will be asked to enter their credit card information, and then they will be enrolled in a free trial for the paid version of the course. After 14 days, they will automatically be charged unless they cancel first. If the student clicks \"access course materials\", they will be able to view the videos and take the quizzes for free, but they will not receive coaching support or a verified certificate, and they will not submit their final project for feedback.\n",
    "\n",
    "In the experiment, Udacity tested a change where if the student clicked \"start free trial\", they were asked how much time they had available to devote to the course. If the student indicated 5 or more hours per week, they would be taken through the checkout process as usual. If they indicated fewer than 5 hours per week, a message would appear indicating that Udacity courses usually require a greater time commitment for successful completion, and suggesting that the student might like to access the course materials for free. At this point, the student would have the option to continue enrolling in the free trial, or access the course materials for free instead. This screenshot shows what the experiment looks like.\n",
    "\n",
    "The hypothesis was that this might set clearer expectations for students upfront, thus reducing the number of frustrated students who left the free trial because they didn't have enough time—without significantly reducing the number of students to continue past the free trial and eventually complete the course. If this hypothesis held true, Udacity could improve the overall student experience and improve coaches' capacity to support students who are likely to complete the course.\n",
    "\n",
    "The unit of diversion is a cookie, although if the student enrolls in the free trial, they are tracked by user-id from that point forward. The same user-id cannot enroll in the free trial twice. For users that do not enroll, their user-id is not tracked in the experiment, even if they were signed in when they visited the course overview page."
   ]
  },
  {
   "cell_type": "markdown",
   "id": "812648d0",
   "metadata": {},
   "source": [
    "# 2. Customer Journey\n",
    "\n",
    "#### Experiment\n",
    "Customer visit Udacity course page >> click \"Start Free\" button >> Question \"+5 hours\" >> Yes & Enroll >> after 14 days, pay\n",
    "\n",
    "#### Control\n",
    "Customer visit Udacity course page >> click \"Start Free\" button  >>  Enroll >> after 14 days, pay\n",
    "\n",
    "# 3. Metrics\n",
    "\n",
    "1. Number of cookies: That is, number of unique cookies to view the course overview page. (dmin=3000)\n",
    "2. Number of user-ids: That is, number of users who enroll in the free trial. (dmin=50)\n",
    "3. Number of clicks: That is, number of unique cookies to click the \"Start free trial\" button (which happens before the free trial screener is trigger). (dmin=240)\n",
    "4. Click-through-probability: That is, number of unique cookies to click the \"Start free trial\" button divided by number of unique cookies to view the course overview page. (dmin=0.01)\n",
    "5. Gross conversion: That is, number of user-ids to complete checkout and enroll in the free trial divided by number of unique cookies to click the \"Start free trial\" button. (dmin= 0.01)\n",
    "6. Retention: That is, number of user-ids to remain enrolled past the 14-day boundary (and thus make at least one payment) divided by number of user-ids to complete checkout. (dmin=0.01)\n",
    "7. Net conversion: That is, number of user-ids to remain enrolled past the 14-day boundary (and thus make at least one payment) divided by the number of unique cookies to click the \"Start free trial\" button. (dmin= 0.0075)\n"
   ]
  },
  {
   "cell_type": "code",
   "execution_count": 1,
   "id": "5506ff6d",
   "metadata": {},
   "outputs": [],
   "source": [
    "import math\n",
    "from scipy.stats import norm\n",
    "import pandas as pd\n",
    "import numpy as np"
   ]
  },
  {
   "cell_type": "code",
   "execution_count": null,
   "id": "2dc19192",
   "metadata": {},
   "outputs": [],
   "source": []
  },
  {
   "cell_type": "code",
   "execution_count": null,
   "id": "09bf44ec",
   "metadata": {},
   "outputs": [],
   "source": []
  },
  {
   "cell_type": "markdown",
   "id": "12615a5d",
   "metadata": {},
   "source": [
    "## Metric Choice\n",
    "Which of the following metrics would you choose to measure for this experiment and why? For each metric you choose, indicate whether you would use it as an invariant metric or an evaluation metric. The practical significance boundary for each metric, that is, the difference that would have to be observed before that was a meaningful change for the business, is given in parentheses. All practical significance boundaries are given as absolute changes.\n",
    "\n",
    "\n",
    "Any place \"unique cookies\" are mentioned, the uniqueness is determined by day. (That is, the same cookie visiting on different days would be counted twice.) User-ids are automatically unique since the site does not allow the same user-id to enroll twice.\n",
    "\n",
    "\n",
    "You should also decide now what results you will be looking for in order to launch the experiment. Would a change in any one of your evaluation metrics be sufficient? Would you want to see multiple metrics all move or not move at the same time in order to launch? This decision will inform your choices while designing the experiment.\n",
    "\n",
    "#####  Invariant Metrics : number of cookies, number of clicks, click-through-probability.\n",
    "\n",
    "#####  Evaluation Metrics : gross conversion, retention, net conversion.\n",
    "\n",
    "#### website to double check your sample size result\n",
    "\n",
    "https://www.evanmiller.org/ab-testing/sample-size.html"
   ]
  },
  {
   "cell_type": "markdown",
   "id": "5a3d7b5e",
   "metadata": {},
   "source": [
    "#### Metric variablity"
   ]
  },
  {
   "cell_type": "code",
   "execution_count": 41,
   "id": "29980c2a",
   "metadata": {},
   "outputs": [
    {
     "name": "stdout",
     "output_type": "stream",
     "text": [
      "SD of GC:  0.0202\n",
      "SD of Retention:  0.0549\n",
      "SD of NC:  0.0156\n"
     ]
    }
   ],
   "source": [
    "n_pageviews=40000\n",
    "n_clicks=3200\n",
    "n_enroll=660\n",
    "ctp=0.08\n",
    "n_sample=5000\n",
    "\n",
    "click_through_probability=0.08 #clicks / pageviews\n",
    "gross_conversion=0.20625 # enroll / click\n",
    "retention=0.53 # payment / enroll\n",
    "net_conversion=0.1093125 # payment / click\n",
    "\n",
    "\"\"\"analytic standard deviation estimate\"\"\"\n",
    "# gross_conversion\n",
    "std_gross_conversion=math.sqrt(gross_conversion*(1-gross_conversion)/(n_clicks/n_pageviews*n_sample))\n",
    "# retention\n",
    "std_retention=math.sqrt(retention*(1-retention)/(n_enroll/n_pageviews*n_sample))\n",
    "# net_conversion\n",
    "std_net_conversion=math.sqrt(net_conversion*(1-net_conversion)/(n_clicks/n_pageviews*n_sample))\n",
    "print(\"SD of GC: \",round(std_gross_conversion,4))\n",
    "print(\"SD of Retention: \",round(std_retention,4))\n",
    "print(\"SD of NC: \",round(std_net_conversion,4))"
   ]
  },
  {
   "cell_type": "code",
   "execution_count": 43,
   "id": "73428557",
   "metadata": {},
   "outputs": [
    {
     "name": "stdout",
     "output_type": "stream",
     "text": [
      "SD of GC:  0.0202\n",
      "SD of Retention:  0.0549\n",
      "SD of NC:  0.0156\n"
     ]
    }
   ],
   "source": [
    "print(\"SD of GC: \",round(np.sqrt((.206250*(1-.206250))/(5000*3200/40000)),4))\n",
    "print(\"SD of Retention: \",round(np.sqrt((.53*(1-.53))/(5000*660/40000)),4))\n",
    "print(\"SD of NC: \",round(np.sqrt((.109313*(1-.109313))/(5000*3200/40000)),4))\n"
   ]
  },
  {
   "cell_type": "markdown",
   "id": "6f189e43",
   "metadata": {},
   "source": [
    "# 4. Sizing\n",
    "Will you use Bonferroni Correction? > Evaluation metrics are closely related to each other, so that Bonferroni would be too conservative.\n",
    "\n",
    "Which evaluation metrics did you choose? > gross conversion, retention, net conversion\n",
    "How many pageviews will you need?"
   ]
  },
  {
   "cell_type": "markdown",
   "id": "9892e9f8",
   "metadata": {},
   "source": [
    "##### Gross Conversion\n",
    "Baseline Conversion: 20.625%\n",
    "Minimum Detectable Effect: 1%\n",
    "alpha: 5%\n",
    "beta: 20%\n",
    "1 - beta: 80%\n",
    "sample size = 25,835 enrollments/group\n",
    "Number of groups = 2 (experiment and control)\n",
    "total sample size = 51,670 enrollments\n",
    "clicks/pageview: 3200/40000 = .08 clicks/pageview\n",
    "pageviews = 645,875\n",
    "\n",
    "##### Retention\n",
    "Baseline Conversion: 53%\n",
    "Minimum Detectable Effect: 1%\n",
    "alpha: 5%\n",
    "beta: 20%\n",
    "1 - beta: 80%\n",
    "sample size = 39,155 enrollments/group\n",
    "Number of groups = 2 (experiment and control)\n",
    "total sample size = 78,230 enrollments\n",
    "enrollments/pageview: 660/40000 = .0165 enrollments/pageview\n",
    "pageviews = 78,230/.0165 = 4,741,212\n",
    "\n",
    "\n",
    "##### Net Conversion\n",
    "Baseline Conversion: 10.9313%\n",
    "Minimum Detectable Effect: .75%\n",
    "alpha: 5%\n",
    "beta: 20%\n",
    "1 - beta: 80%\n",
    "sample size = 27,413 enrollments/group\n",
    "Number of groups = 2 (experiment and control)\n",
    "total sample size = 54,826\n",
    "clicks/pageview: 3200/40000 = .08 clicks/pageview\n",
    "pageviews = 685,325"
   ]
  },
  {
   "cell_type": "code",
   "execution_count": null,
   "id": "64fe31db",
   "metadata": {},
   "outputs": [],
   "source": []
  },
  {
   "cell_type": "code",
   "execution_count": null,
   "id": "0d08e889",
   "metadata": {},
   "outputs": [],
   "source": []
  },
  {
   "cell_type": "markdown",
   "id": "984fbe2c",
   "metadata": {},
   "source": [
    "# 5. Duration"
   ]
  },
  {
   "cell_type": "code",
   "execution_count": 44,
   "id": "1d95bdaa",
   "metadata": {},
   "outputs": [
    {
     "data": {
      "text/plain": [
       "118.5303"
      ]
     },
     "execution_count": 44,
     "metadata": {},
     "output_type": "execute_result"
    }
   ],
   "source": [
    "## too long\n",
    "4741212.0/40000"
   ]
  },
  {
   "cell_type": "markdown",
   "id": "b0ba9369",
   "metadata": {},
   "source": [
    " If we divert 100% off traffic, given 40,000 page views per day, the experiment would take 119 days. That is a long time. If we eliminate retention, we are left with Gross Conversion and Net Conversion. This reduces the number of required pageviews to 685,325, and an 18 day experiment with 100% diversion. There may be other experiments to run, so let's say 50% diversion for 35 days.\n",
    "\n",
    "\n"
   ]
  },
  {
   "cell_type": "code",
   "execution_count": 45,
   "id": "5bf32bc5",
   "metadata": {},
   "outputs": [
    {
     "data": {
      "text/plain": [
       "17.133125"
      ]
     },
     "execution_count": 45,
     "metadata": {},
     "output_type": "execute_result"
    }
   ],
   "source": [
    "685325.0/40000"
   ]
  },
  {
   "cell_type": "code",
   "execution_count": null,
   "id": "9699e7ca",
   "metadata": {},
   "outputs": [],
   "source": []
  },
  {
   "cell_type": "code",
   "execution_count": null,
   "id": "b0b16e36",
   "metadata": {},
   "outputs": [],
   "source": []
  },
  {
   "cell_type": "markdown",
   "id": "aa51a1bf",
   "metadata": {},
   "source": [
    "#### Analysis\n",
    "The data for you to analyze is here. This data contains the raw information needed to compute the above metrics, broken down day by day. Note that there are two sheets within the spreadsheet - one for the experiment group, and one for the control group.\n",
    "\n",
    "\n",
    "The meaning of each column is:\n",
    "\n",
    "1. Pageviews: Number of unique cookies to view the course overview page that day.\n",
    "2. Clicks: Number of unique cookies to click the course overview page that day.\n",
    "3. Enrollments: Number of user-ids to enroll in the free trial that day.\n",
    "4. Payments: Number of user-ids who who enrolled on that day to remain enrolled for 14 days and thus make a payment. (Note that the date for this column is the start date, that is, the date of enrollment, rather than the date of the payment. The payment happened 14 days later. Because of this, the enrollments and payments are tracked for 14 fewer days than the other columns.)"
   ]
  },
  {
   "cell_type": "markdown",
   "id": "3acbfe2a",
   "metadata": {},
   "source": [
    "# 6. Sanity Checks : Invariant Metrics\n",
    "\n",
    "Start by checking whether your invariant metrics are equivalent between the two groups. If the invariant metric is a simple count that should be randomly split between the 2 groups, you can use a binomial test as demonstrated in Lesson 5. Otherwise, you will need to construct a confidence interval for a difference in proportions using a similar strategy as in Lesson 1, then check whether the difference between group values falls within that confidence level.\n",
    "\n",
    "\n",
    "If your sanity checks fail, look at the day by day data and see if you can offer any insight into what is causing the problem."
   ]
  },
  {
   "cell_type": "code",
   "execution_count": 2,
   "id": "b527a17c",
   "metadata": {},
   "outputs": [],
   "source": [
    "dates=['Sat, Oct 11', 'Sun, Oct 12', 'Mon, Oct 13', 'Tue, Oct 14',\n",
    "       'Wed, Oct 15', 'Thu, Oct 16', 'Fri, Oct 17', 'Sat, Oct 18',\n",
    "       'Sun, Oct 19', 'Mon, Oct 20', 'Tue, Oct 21', 'Wed, Oct 22',\n",
    "       'Thu, Oct 23', 'Fri, Oct 24', 'Sat, Oct 25', 'Sun, Oct 26',\n",
    "       'Mon, Oct 27', 'Tue, Oct 28', 'Wed, Oct 29', 'Thu, Oct 30',\n",
    "       'Fri, Oct 31', 'Sat, Nov 1', 'Sun, Nov 2', 'Mon, Nov 3',\n",
    "       'Tue, Nov 4', 'Wed, Nov 5', 'Thu, Nov 6', 'Fri, Nov 7',\n",
    "       'Sat, Nov 8', 'Sun, Nov 9', 'Mon, Nov 10', 'Tue, Nov 11',\n",
    "       'Wed, Nov 12', 'Thu, Nov 13', 'Fri, Nov 14', 'Sat, Nov 15',\n",
    "       'Sun, Nov 16']\n",
    "pageviews_cont=[ 7723,  9102, 10511,  9871, 10014,  9670,  9008,  7434,  8459,\n",
    "       10667, 10660,  9947,  8324,  9434,  8687,  8896,  9535,  9363,\n",
    "        9327,  9345,  8890,  8460,  8836,  9437,  9420,  9570,  9921,\n",
    "        9424,  9010,  9656, 10419,  9880, 10134,  9717,  9192,  8630,\n",
    "        8970]\n",
    "pageviews_exp=[ 7716,  9288, 10480,  9867,  9793,  9500,  9088,  7664,  8434,\n",
    "       10496, 10551,  9737,  8176,  9402,  8669,  8881,  9655,  9396,\n",
    "        9262,  9308,  8715,  8448,  8836,  9359,  9427,  9633,  9842,\n",
    "        9272,  8969,  9697, 10445,  9931, 10042,  9721,  9304,  8668,\n",
    "        8988]\n",
    "clicks_cont=[687, 779, 909, 836, 837, 823, 748, 632, 691, 861, 867, 838, 665,\n",
    "       673, 691, 708, 759, 736, 739, 734, 706, 681, 693, 788, 781, 805,\n",
    "       830, 781, 756, 825, 874, 830, 801, 814, 735, 743, 722]\n",
    "clicks_exp=[686, 785, 884, 827, 832, 788, 780, 652, 697, 860, 864, 801, 642,\n",
    "       697, 669, 693, 771, 736, 727, 728, 722, 695, 724, 789, 743, 808,\n",
    "       831, 767, 760, 850, 851, 831, 802, 829, 770, 724, 710]\n",
    "enrolls_cont=[134, 147, 167, 156, 163, 138, 146, 110, 131, 165, 196, 162, 127,\n",
    "       220, 176, 161, 233, 154, 196, 167, 174, 156, 206]\n",
    "enrolls_exp=[105, 116, 145, 138, 140, 129, 127,  94, 120, 153, 143, 128, 122,\n",
    "       194, 127, 153, 213, 162, 201, 207, 182, 142, 182]\n",
    "payment_cont=[ 70,  70,  95, 105,  64,  82,  76,  70,  60,  97, 105,  92,  56,\n",
    "       122, 128, 104, 124,  91,  86,  75, 101,  93,  67]\n",
    "payment_exp=[ 34,  91,  79,  92,  94,  61,  44,  62,  77,  98,  71,  70,  68,\n",
    "        94,  81, 101, 119, 120,  96,  67, 123, 100, 103]\n",
    "ctp_cont=[i/j for i,j in zip(clicks_cont,pageviews_cont)]\n",
    "ctp_exp=[i/j for i,j in zip(clicks_exp,pageviews_exp)]"
   ]
  },
  {
   "cell_type": "code",
   "execution_count": 5,
   "id": "6cc94f66",
   "metadata": {},
   "outputs": [
    {
     "name": "stdout",
     "output_type": "stream",
     "text": [
      "Confidence Interval for pageviews: [0.4988,0.5012]\n",
      "Observed:  0.5006\n"
     ]
    }
   ],
   "source": [
    "\"\"\"pageviews: control and experiment group are expected to be shown same amount pageviews ~0.5 \"\"\"\n",
    "sum_pv_cont=sum(pageviews_cont)\n",
    "sum_pv_exp=sum(pageviews_exp)\n",
    "SD_pageviews=math.sqrt(0.5*0.5/(sum_pv_cont+sum_pv_exp))\n",
    "m=1.96*SD_pageviews\n",
    "ci_min,ci_max=0.5-m,0.5+m\n",
    "print(\"Confidence Interval for pageviews: [{},{}]\".format(round(ci_min,4),round(ci_max,4)))\n",
    "print(\"Observed: \",round(sum_pv_cont/(sum_pv_exp+sum_pv_cont),4))"
   ]
  },
  {
   "cell_type": "code",
   "execution_count": 6,
   "id": "2c2b9292",
   "metadata": {},
   "outputs": [
    {
     "name": "stdout",
     "output_type": "stream",
     "text": [
      "Confidence Interval for clicks: [0.4959,0.5041]\n",
      "Observed:  0.5005\n"
     ]
    }
   ],
   "source": [
    "\"\"\"clicks: control and experiment group are expected to be shown same amount pageviews ~ 0.5 \"\"\"\n",
    "sum_click_cont=sum(clicks_cont)\n",
    "sum_click_exp=sum(clicks_exp)\n",
    "SD_clicks=math.sqrt(0.5*0.5/(sum_click_cont+sum_click_exp))\n",
    "m=1.96*SD_clicks\n",
    "ci_min,ci_max=0.5-m,0.5+m\n",
    "print(\"Confidence Interval for clicks: [{},{}]\".format(round(ci_min,4),round(ci_max,4)))\n",
    "print(\"Observed: \",round(sum_click_cont/(sum_click_exp+sum_click_cont),4))"
   ]
  },
  {
   "cell_type": "code",
   "execution_count": 7,
   "id": "570d902b",
   "metadata": {},
   "outputs": [
    {
     "name": "stdout",
     "output_type": "stream",
     "text": [
      "Confidence Interval for ctp: [-0.0013,0.0013]\n",
      "Observed:  0.0001\n"
     ]
    }
   ],
   "source": [
    "\"\"\"click_through_probability:control and experiment group are expected to be shown same amount pageviews ~ 0 \"\"\"\n",
    "ctp_cont=sum_click_cont/sum_pv_cont\n",
    "ctp_exp=sum_click_exp/sum_pv_exp\n",
    "d_hat=ctp_exp-ctp_cont\n",
    "ctp_pool=(sum_click_cont+sum_click_exp)/(sum_pv_cont+sum_pv_exp)\n",
    "SE_ctp=math.sqrt(ctp_pool*(1-ctp_pool)*(1/sum_pv_cont+1/sum_pv_exp))\n",
    "m=1.96*SE_ctp\n",
    "ci_min,ci_max=-m,m\n",
    "print(\"Confidence Interval for ctp: [{},{}]\".format(round(ci_min,4),round(ci_max,4)))\n",
    "print(\"Observed: \",round(d_hat,4))"
   ]
  },
  {
   "cell_type": "code",
   "execution_count": 25,
   "id": "fc09c054",
   "metadata": {},
   "outputs": [
    {
     "data": {
      "text/html": [
       "<div>\n",
       "<style scoped>\n",
       "    .dataframe tbody tr th:only-of-type {\n",
       "        vertical-align: middle;\n",
       "    }\n",
       "\n",
       "    .dataframe tbody tr th {\n",
       "        vertical-align: top;\n",
       "    }\n",
       "\n",
       "    .dataframe thead th {\n",
       "        text-align: right;\n",
       "    }\n",
       "</style>\n",
       "<table border=\"1\" class=\"dataframe\">\n",
       "  <thead>\n",
       "    <tr style=\"text-align: right;\">\n",
       "      <th></th>\n",
       "      <th>Control</th>\n",
       "      <th>Experiment</th>\n",
       "      <th>Total</th>\n",
       "      <th>Prob</th>\n",
       "      <th>StdErr</th>\n",
       "      <th>MargErr</th>\n",
       "      <th>CI_lower</th>\n",
       "      <th>CI_upper</th>\n",
       "      <th>Obs_val</th>\n",
       "      <th>Pass_Sanity</th>\n",
       "      <th>Diff</th>\n",
       "    </tr>\n",
       "  </thead>\n",
       "  <tbody>\n",
       "    <tr>\n",
       "      <th>cookies</th>\n",
       "      <td>345543</td>\n",
       "      <td>344660</td>\n",
       "      <td>690203</td>\n",
       "      <td>0.5</td>\n",
       "      <td>0.000602</td>\n",
       "      <td>0.001180</td>\n",
       "      <td>0.498820</td>\n",
       "      <td>0.501180</td>\n",
       "      <td>0.499360</td>\n",
       "      <td>True</td>\n",
       "      <td>0.001279</td>\n",
       "    </tr>\n",
       "    <tr>\n",
       "      <th>clicks</th>\n",
       "      <td>28378</td>\n",
       "      <td>28325</td>\n",
       "      <td>56703</td>\n",
       "      <td>0.5</td>\n",
       "      <td>0.002100</td>\n",
       "      <td>0.004116</td>\n",
       "      <td>0.495884</td>\n",
       "      <td>0.504116</td>\n",
       "      <td>0.499533</td>\n",
       "      <td>True</td>\n",
       "      <td>0.000935</td>\n",
       "    </tr>\n",
       "    <tr>\n",
       "      <th>enrollments</th>\n",
       "      <td>3785</td>\n",
       "      <td>3423</td>\n",
       "      <td>7208</td>\n",
       "      <td>0.5</td>\n",
       "      <td>0.005889</td>\n",
       "      <td>0.011543</td>\n",
       "      <td>0.488457</td>\n",
       "      <td>0.511543</td>\n",
       "      <td>0.474889</td>\n",
       "      <td>False</td>\n",
       "      <td>0.050222</td>\n",
       "    </tr>\n",
       "    <tr>\n",
       "      <th>payments</th>\n",
       "      <td>2033</td>\n",
       "      <td>1945</td>\n",
       "      <td>3978</td>\n",
       "      <td>0.5</td>\n",
       "      <td>0.007928</td>\n",
       "      <td>0.015538</td>\n",
       "      <td>0.484462</td>\n",
       "      <td>0.515538</td>\n",
       "      <td>0.488939</td>\n",
       "      <td>True</td>\n",
       "      <td>0.022122</td>\n",
       "    </tr>\n",
       "  </tbody>\n",
       "</table>\n",
       "</div>"
      ],
      "text/plain": [
       "             Control  Experiment   Total  Prob    StdErr   MargErr  CI_lower  \\\n",
       "cookies       345543      344660  690203   0.5  0.000602  0.001180  0.498820   \n",
       "clicks         28378       28325   56703   0.5  0.002100  0.004116  0.495884   \n",
       "enrollments     3785        3423    7208   0.5  0.005889  0.011543  0.488457   \n",
       "payments        2033        1945    3978   0.5  0.007928  0.015538  0.484462   \n",
       "\n",
       "             CI_upper   Obs_val  Pass_Sanity      Diff  \n",
       "cookies      0.501180  0.499360         True  0.001279  \n",
       "clicks       0.504116  0.499533         True  0.000935  \n",
       "enrollments  0.511543  0.474889        False  0.050222  \n",
       "payments     0.515538  0.488939         True  0.022122  "
      ]
     },
     "execution_count": 25,
     "metadata": {},
     "output_type": "execute_result"
    }
   ],
   "source": [
    "# a different presentation\n",
    "\n",
    "results = {\"Control\":pd.Series([sum(pageviews_cont),sum(clicks_cont),\n",
    "                                  sum(enrolls_cont),sum(payment_cont)],\n",
    "                                  index = [\"cookies\",\"clicks\",\"enrollments\",\"payments\"]),\n",
    "           \"Experiment\":pd.Series([sum(pageviews_exp),sum(clicks_exp),\n",
    "                               sum(enrolls_exp),sum(payment_exp)],\n",
    "                               index = [\"cookies\",\"clicks\",\"enrollments\",\"payments\"])}\n",
    "df_results = pd.DataFrame(results)\n",
    "\n",
    "\n",
    "df_results['Total']=df_results.Control + df_results.Experiment\n",
    "df_results['Prob'] = 0.5\n",
    "df_results['StdErr'] = np.sqrt((df_results.Prob * (1- df_results.Prob))/df_results.Total)\n",
    "df_results[\"MargErr\"] = 1.96 * df_results.StdErr\n",
    "df_results[\"CI_lower\"] = df_results.Prob - df_results.MargErr\n",
    "df_results[\"CI_upper\"] = df_results.Prob + df_results.MargErr\n",
    "df_results[\"Obs_val\"] = df_results.Experiment/df_results.Total\n",
    "df_results[\"Pass_Sanity\"] = df_results.apply(lambda x: (x.Obs_val > x.CI_lower) and (x.Obs_val < x.CI_upper),axis=1)\n",
    "df_results['Diff'] = abs((df_results.Experiment - df_results.Control)/df_results.Total)\n",
    "\n",
    "\n",
    "df_results"
   ]
  },
  {
   "cell_type": "markdown",
   "id": "ae1dbe78",
   "metadata": {},
   "source": [
    "# 7  Evaluation Metrics\n",
    "\n",
    "5. Gross conversion: That is, number of user-ids to complete checkout and enroll in the free trial divided by number of unique cookies to click the \"Start free trial\" button. (dmin= 0.01)\n",
    "6. Retention: That is, number of user-ids to remain enrolled past the 14-day boundary (and thus make at least one payment) divided by number of user-ids to complete checkout. (dmin=0.01)\n",
    "7. Net conversion: That is, number of user-ids to remain enrolled past the 14-day boundary (and thus make at least one payment) divided by the number of unique cookies to click the \"Start free trial\" button. (dmin= 0.0075)\n"
   ]
  },
  {
   "cell_type": "code",
   "execution_count": 26,
   "id": "0fd20050",
   "metadata": {},
   "outputs": [
    {
     "name": "stdout",
     "output_type": "stream",
     "text": [
      "Confidence Interval:[-0.0291233583354044,-0.01198639082531873]\n",
      "Observed: -0.020554874580361565\n",
      "Statistically significant: True ,  CI doesn't include 0\n",
      "Practically significant: True ,  CI doesn't include d_min or -d_min\n"
     ]
    }
   ],
   "source": [
    "\"\"\"gross conversion\"\"\"\n",
    "n=len(enrolls_exp)\n",
    "d_min=0.01\n",
    "sum_clicks_cont=sum(clicks_cont[:n])\n",
    "sum_clicks_exp=sum(clicks_exp[:n])\n",
    "sum_enroll_cont=sum(enrolls_cont[:n])\n",
    "sum_enroll_exp=sum(enrolls_exp[:n])\n",
    "# pooled standard error & error margin\n",
    "p_pool=(sum_enroll_exp+sum_enroll_cont)/(sum_clicks_exp+sum_clicks_cont)\n",
    "SE_pool=math.sqrt(p_pool*(1-p_pool)*(1/sum_clicks_cont+1/sum_clicks_exp))\n",
    "m=SE_pool*1.96\n",
    "\n",
    "d_hat=sum_enroll_exp/sum_clicks_exp-sum_enroll_cont/sum_clicks_cont # observed difference\n",
    "\n",
    "print(\"Confidence Interval:[{},{}]\".format(d_hat-m,d_hat+m))\n",
    "print(\"Observed:\",d_hat)\n",
    "print (\"Statistically significant:\", d_hat+m<0 or d_hat-m>0 ,\",  CI doesn't include 0\")\n",
    "print(\"Practically significant:\",True,\",  CI doesn't include d_min or -d_min\")"
   ]
  },
  {
   "cell_type": "code",
   "execution_count": 27,
   "id": "8051de9f",
   "metadata": {},
   "outputs": [
    {
     "name": "stdout",
     "output_type": "stream",
     "text": [
      "Confidence Interval:[0.008104435728019967,0.05408517368626556]\n",
      "Observed: 0.031094804707142765\n",
      "Statistically significant: True ,  CI doesn't include 0\n",
      "Practically significant: False ,  CI include d_min\n"
     ]
    }
   ],
   "source": [
    "\"\"\"retention\"\"\"\n",
    "n=len(payment_exp)\n",
    "d_min=0.01\n",
    "sum_payment_cont=sum(payment_cont[:n])\n",
    "sum_payment_exp=sum(payment_exp[:n])\n",
    "sum_enroll_cont=sum(enrolls_cont[:n])\n",
    "sum_enroll_exp=sum(enrolls_exp[:n])\n",
    "p_pool=(sum_payment_cont+sum_payment_exp)/(sum_enroll_cont+sum_enroll_exp)\n",
    "SE_pool=math.sqrt(p_pool*(1-p_pool)*(1/sum_enroll_cont+1/sum_enroll_exp))\n",
    "m=SE_pool*1.96\n",
    "d_hat=sum_payment_exp/sum_enroll_exp-sum_payment_cont/sum_enroll_cont\n",
    "print(\"Confidence Interval:[{},{}]\".format(d_hat-m,d_hat+m))\n",
    "print(\"Observed:\",d_hat)\n",
    "print (\"Statistically significant:\", d_hat+m<0 or d_hat-m>0 ,\",  CI doesn't include 0\")\n",
    "print(\"Practically significant:\",False,\",  CI include d_min\")"
   ]
  },
  {
   "cell_type": "code",
   "execution_count": 28,
   "id": "36bd2b6e",
   "metadata": {},
   "outputs": [
    {
     "name": "stdout",
     "output_type": "stream",
     "text": [
      "Confidence Interval:[-0.011604624359891718,0.001857179010803383]\n",
      "Observed: -0.0048737226745441675\n",
      "Statistically significant: False ,  CI doesn't include 0\n",
      "Practically significant: False ,  CI include d_min\n"
     ]
    }
   ],
   "source": [
    "\"\"\"net conversion\"\"\"\n",
    "n=len(enrolls_exp)\n",
    "d_min=0.0075\n",
    "sum_clicks_cont=sum(clicks_cont[:n])\n",
    "sum_clicks_exp=sum(clicks_exp[:n])\n",
    "sum_payment_cont=sum(payment_cont[:n])\n",
    "sum_payment_exp=sum(payment_exp[:n])\n",
    "p_pool=(sum_payment_exp+sum_payment_cont)/(sum_clicks_exp+sum_clicks_cont)\n",
    "SE_pool=math.sqrt(p_pool*(1-p_pool)*(1/sum_clicks_cont+1/sum_clicks_exp))\n",
    "m=SE_pool*1.96\n",
    "d_hat=sum_payment_exp/sum_clicks_exp-sum_payment_cont/sum_clicks_cont\n",
    "print(\"Confidence Interval:[{},{}]\".format(d_hat-m,d_hat+m))\n",
    "print(\"Observed:\",d_hat)\n",
    "print (\"Statistically significant:\", d_hat+m<0 or d_hat-m>0 ,\",  CI doesn't include 0\")\n",
    "print(\"Practically significant:\",False,\",  CI include d_min\")"
   ]
  },
  {
   "cell_type": "code",
   "execution_count": null,
   "id": "5ff325ec",
   "metadata": {},
   "outputs": [],
   "source": []
  },
  {
   "cell_type": "markdown",
   "id": "078fb0e5",
   "metadata": {},
   "source": [
    "## Sign Test\n",
    "\n",
    "For each evaluation metric, do a sign test using the day-by-day breakdown. If the sign test does not agree with the confidence interval for the difference, see if you can figure out why.\n",
    "\n"
   ]
  },
  {
   "cell_type": "code",
   "execution_count": 38,
   "id": "b2e0569d",
   "metadata": {},
   "outputs": [
    {
     "name": "stdout",
     "output_type": "stream",
     "text": [
      "There are 4 out of 23 days that gross conversion of experiment group > gross conversion of control group\n",
      "p-value: 0.002599477767944336 , Statistically Significant: True\n"
     ]
    }
   ],
   "source": [
    "from scipy.stats import binom_test \n",
    "\"\"\"gross conversion\"\"\"\n",
    "alpha=0.05\n",
    "beta=0.2\n",
    "\n",
    "gc_exp=[i/j for i,j in zip(enrolls_exp,clicks_exp)]\n",
    "gc_cont=[i/j for i,j in zip(enrolls_cont,clicks_cont)]\n",
    "gc_diff=sum([i>j for i,j in zip(gc_exp,gc_cont)])\n",
    "days=len(gc_exp)\n",
    "\n",
    "# The prob of gross conversion of experiment group > gross conversion of control group is 0.5\n",
    "print('There are {} out of {} days that gross conversion of experiment group > gross conversion of control group'.format(gc_diff, days))\n",
    "p_value=binom_test(gc_diff, n=days, p=0.5)\n",
    "print(\"p-value:\",p_value,\", Statistically Significant:\",p_value<alpha)"
   ]
  },
  {
   "cell_type": "code",
   "execution_count": 39,
   "id": "e0b191ba",
   "metadata": {},
   "outputs": [
    {
     "name": "stdout",
     "output_type": "stream",
     "text": [
      "There are 13 out of 23 days that retention of experiment group > retention of control group\n",
      "p-value: 0.6776394844055176 , Statistically Significant: False\n"
     ]
    }
   ],
   "source": [
    "\"\"\"retention\"\"\"\n",
    "rt_exp=[i/j for i,j in zip(payment_exp,enrolls_exp)]\n",
    "rt_cont=[i/j for i,j in zip(payment_cont,enrolls_cont)]\n",
    "rt_diff=sum([i>j for i,j in zip(rt_exp,rt_cont)])\n",
    "days=len(rt_exp)\n",
    "p_value=binom_test(rt_diff, n=days, p=0.5)\n",
    "\n",
    "print('There are {} out of {} days that retention of experiment group > retention of control group'.format(rt_diff, days))\n",
    "print(\"p-value:\",p_value,\", Statistically Significant:\",p_value<alpha)\n"
   ]
  },
  {
   "cell_type": "code",
   "execution_count": 40,
   "id": "30cb0c4f",
   "metadata": {},
   "outputs": [
    {
     "name": "stdout",
     "output_type": "stream",
     "text": [
      "There are 10 out of 23 days that net conversion of experiment group > net conversion of control group\n",
      "p-value: 0.6776394844055176 , Statistically Significant: False\n"
     ]
    }
   ],
   "source": [
    "\"\"\"net conversion\"\"\"\n",
    "nc_exp=[i/j for i,j in zip(payment_exp,clicks_exp)]\n",
    "nc_cont=[i/j for i,j in zip(payment_cont,clicks_cont)]\n",
    "nc_diff=sum([i>j for i,j in zip(nc_exp,nc_cont)])\n",
    "days=len(nc_exp)\n",
    "p_value=binom_test(nc_diff, n=days, p=0.5)\n",
    "print('There are {} out of {} days that net conversion of experiment group > net conversion of control group'.format(nc_diff, days))\n",
    "print(\"p-value:\",p_value,\", Statistically Significant:\",p_value<alpha)"
   ]
  },
  {
   "cell_type": "code",
   "execution_count": null,
   "id": "637b06e6",
   "metadata": {},
   "outputs": [],
   "source": []
  },
  {
   "cell_type": "markdown",
   "id": "38a6b74a",
   "metadata": {},
   "source": [
    "# 8 Result Summary\n",
    "\n",
    "1. Give good justification for their choice of whether to use the Bonferroni correction.\n",
    "2. Give well-reasoned and plausible explanations for each discrepancy between the effect size tests and the sign tests."
   ]
  },
  {
   "cell_type": "code",
   "execution_count": null,
   "id": "c4848303",
   "metadata": {},
   "outputs": [],
   "source": []
  },
  {
   "cell_type": "markdown",
   "id": "392ec2dd",
   "metadata": {},
   "source": [
    "# 9 Recommendation \n",
    "\n",
    "1. Make recommendation that is well reasoned and supported by the data."
   ]
  },
  {
   "cell_type": "code",
   "execution_count": null,
   "id": "b48d9e34",
   "metadata": {},
   "outputs": [],
   "source": []
  },
  {
   "cell_type": "code",
   "execution_count": null,
   "id": "5793e49b",
   "metadata": {},
   "outputs": [],
   "source": []
  },
  {
   "cell_type": "markdown",
   "id": "580ec278",
   "metadata": {},
   "source": [
    "# 10 Follow-up Experiment\n",
    "\n",
    "1. Give a plausible experiment that would be worth testing and the hypothesis is clearly stated.\n",
    "2. Metrics chosen will be sufficient to evaluate the hypothesis of the experiment, would be possible to measure under most infrastructures, and are well-supported by reasoning.\n",
    "3. Choose a reasonable unit of diversion and given good support for their choice."
   ]
  },
  {
   "cell_type": "code",
   "execution_count": null,
   "id": "016cd482",
   "metadata": {},
   "outputs": [],
   "source": []
  },
  {
   "cell_type": "markdown",
   "id": "6ce29679",
   "metadata": {},
   "source": []
  }
 ],
 "metadata": {
  "kernelspec": {
   "display_name": "Python 3 (ipykernel)",
   "language": "python",
   "name": "python3"
  },
  "language_info": {
   "codemirror_mode": {
    "name": "ipython",
    "version": 3
   },
   "file_extension": ".py",
   "mimetype": "text/x-python",
   "name": "python",
   "nbconvert_exporter": "python",
   "pygments_lexer": "ipython3",
   "version": "3.9.7"
  }
 },
 "nbformat": 4,
 "nbformat_minor": 5
}
